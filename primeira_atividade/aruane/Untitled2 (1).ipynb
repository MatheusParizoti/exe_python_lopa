{
 "cells": [
  {
   "cell_type": "markdown",
   "id": "8ffd3193-f6e3-42b0-a1cf-c7c7b23b4c88",
   "metadata": {},
   "source": [
    "**LISTA DE EXERCICIOS SEMANA 5**"
   ]
  },
  {
   "cell_type": "markdown",
   "id": "f599aa50-2da6-425f-93c3-c2849db229d5",
   "metadata": {},
   "source": [
    "**exercicio 1**"
   ]
  },
  {
   "cell_type": "code",
   "execution_count": 6,
   "id": "800fc51f-3f16-4e41-8780-14f703107c03",
   "metadata": {},
   "outputs": [
    {
     "name": "stdin",
     "output_type": "stream",
     "text": [
      "Qual seu nome:  matheus\n"
     ]
    },
    {
     "name": "stdout",
     "output_type": "stream",
     "text": [
      "\n",
      "## matheus, Seja bem Vindo(a) ##\n"
     ]
    }
   ],
   "source": [
    "# 1-Peça ao usuário para inserir seu nome e exiba uma mensagem de boas-vindas.\n",
    "\n",
    "nome = input(\"Qual seu nome: \")\n",
    "print(\"\")\n",
    "\n",
    "print(f\"## {nome}, Seja bem Vindo(a) ##\")"
   ]
  },
  {
   "cell_type": "markdown",
   "id": "0a5d2520-6cdc-49e7-9de7-42054b859634",
   "metadata": {},
   "source": [
    "**exercicio 2**"
   ]
  },
  {
   "cell_type": "code",
   "execution_count": 16,
   "id": "17ba3e76-5b07-4dd7-b97a-ec6e2d0fcc07",
   "metadata": {},
   "outputs": [
    {
     "name": "stdin",
     "output_type": "stream",
     "text": [
      "Digite seu nome:  matehus\n"
     ]
    },
    {
     "name": "stdout",
     "output_type": "stream",
     "text": [
      "\n"
     ]
    },
    {
     "name": "stdin",
     "output_type": "stream",
     "text": [
      "Digite seu sobrenome:  parizas\n"
     ]
    },
    {
     "name": "stdout",
     "output_type": "stream",
     "text": [
      "\n",
      "Olá matehus parizas\n"
     ]
    }
   ],
   "source": [
    "# 2-Peça ao usuário para inserir duas palavras e exiba uma única string que\n",
    "# contenha as palavras concatenadas e separadas por um espaço.\n",
    "nome = input(\"Digite seu nome: \")\n",
    "print(\"\")\n",
    "sobrenome = input(\"Digite seu sobrenome: \")\n",
    "print(\"\")\n",
    "\n",
    "nome_completo = nome + \" \" + sobrenome\n",
    "print(f\"Olá {nome_completo}\")\n"
   ]
  },
  {
   "cell_type": "markdown",
   "id": "b9f81dba-53dd-41e7-94b4-124601d2a1c0",
   "metadata": {},
   "source": [
    "**exercicio 3**"
   ]
  },
  {
   "cell_type": "code",
   "execution_count": 8,
   "id": "b0eb82f9-c617-403a-a29b-cf81b9e8d9f8",
   "metadata": {},
   "outputs": [
    {
     "name": "stdin",
     "output_type": "stream",
     "text": [
      "Digite uma frase:  ola\n"
     ]
    },
    {
     "name": "stdout",
     "output_type": "stream",
     "text": [
      "\n",
      "Essa frase tem 3 letras\n"
     ]
    }
   ],
   "source": [
    "# 3-Solicite ao usuário que insira uma frase e exiba quantas palavras ela contém.\n",
    "\n",
    "frase = input(\"Digite uma frase: \")\n",
    "print(\"\")\n",
    "\n",
    "tamanho = len(frase)\n",
    "print(f\"Essa frase tem {tamanho} letras\")"
   ]
  },
  {
   "cell_type": "markdown",
   "id": "3c3db149-440d-4d0d-b523-1769e6926fc8",
   "metadata": {},
   "source": [
    "**exercicio 4**"
   ]
  },
  {
   "cell_type": "code",
   "execution_count": 12,
   "id": "b3ee43cb-3e49-43d3-ab33-9c697a42d547",
   "metadata": {},
   "outputs": [
    {
     "name": "stdout",
     "output_type": "stream",
     "text": [
      "VAMOS SOMAR OS NUMEROS\n",
      "\n"
     ]
    },
    {
     "name": "stdin",
     "output_type": "stream",
     "text": [
      "Digite o numero 1:  2\n"
     ]
    },
    {
     "name": "stdout",
     "output_type": "stream",
     "text": [
      "\n"
     ]
    },
    {
     "name": "stdin",
     "output_type": "stream",
     "text": [
      "Digite o numero 2:  2\n"
     ]
    },
    {
     "name": "stdout",
     "output_type": "stream",
     "text": [
      "\n",
      "A soma do numero 1 mais o numero 2 é :4\n"
     ]
    }
   ],
   "source": [
    "# 4-Peça ao usuário para inserir dois números e exiba a soma deles.\n",
    "\n",
    "print(\"VAMOS SOMAR OS NUMEROS\")\n",
    "print(\"\")\n",
    "n1 = int(input(\"Digite o numero 1: \"))\n",
    "print(\"\")\n",
    "n2 = int(input(\"Digite o numero 2: \"))\n",
    "print(\"\")\n",
    "\n",
    "soma = n1 + n2\n",
    "\n",
    "print(f\"A soma do numero 1 mais o numero 2 é :{soma}\")\n"
   ]
  },
  {
   "cell_type": "markdown",
   "id": "82f512f0-06e0-43c8-84a1-8bd3bc637f9f",
   "metadata": {},
   "source": [
    "**exercicio 5**"
   ]
  },
  {
   "cell_type": "code",
   "execution_count": 15,
   "id": "f0f2614b-2879-4591-9691-04ab5921ef8a",
   "metadata": {},
   "outputs": [
    {
     "name": "stdout",
     "output_type": "stream",
     "text": [
      "VAMOS SOMAR FAZER A MEDIA\n",
      "\n"
     ]
    },
    {
     "name": "stdin",
     "output_type": "stream",
     "text": [
      "Digite o nota 1:  4\n"
     ]
    },
    {
     "name": "stdout",
     "output_type": "stream",
     "text": [
      "\n"
     ]
    },
    {
     "name": "stdin",
     "output_type": "stream",
     "text": [
      "Digite o nota 2:  3\n"
     ]
    },
    {
     "name": "stdout",
     "output_type": "stream",
     "text": [
      "\n"
     ]
    },
    {
     "name": "stdin",
     "output_type": "stream",
     "text": [
      "Digite o nota 3:  2\n"
     ]
    },
    {
     "name": "stdout",
     "output_type": "stream",
     "text": [
      "\n",
      "A media das suas notas é: 3.0\n"
     ]
    }
   ],
   "source": [
    "# 5-Crie um programa que receba três números do usuário e exiba a média\n",
    "# aritmética deles.\n",
    "\n",
    "print(\"VAMOS SOMAR FAZER A MEDIA\")\n",
    "print(\"\")\n",
    "n1 = int(input(\"Digite o nota 1: \"))\n",
    "print(\"\")\n",
    "n2 = int(input(\"Digite o nota 2: \"))\n",
    "print(\"\")\n",
    "n3 = int(input(\"Digite o nota 3: \"))\n",
    "print(\"\")\n",
    "\n",
    "media = (n1 + n2 + n3 ) / 3\n",
    "\n",
    "print(f\"A media das suas notas é: {media}\")\n",
    "\n",
    "\n"
   ]
  },
  {
   "cell_type": "markdown",
   "id": "3860a74f-231b-4440-b639-2ee1ffd3e5e1",
   "metadata": {},
   "source": [
    "**exercicio 6**"
   ]
  },
  {
   "cell_type": "code",
   "execution_count": 30,
   "id": "3bba4285-db87-4165-9fa5-96b8f73d0d18",
   "metadata": {},
   "outputs": [
    {
     "name": "stdout",
     "output_type": "stream",
     "text": [
      "VAMOS DESCOBRIR O MAIOR NUMERO\n",
      "\n"
     ]
    },
    {
     "name": "stdin",
     "output_type": "stream",
     "text": [
      "Digite o numero 1:  1\n"
     ]
    },
    {
     "name": "stdout",
     "output_type": "stream",
     "text": [
      "\n"
     ]
    },
    {
     "name": "stdin",
     "output_type": "stream",
     "text": [
      "Digite o numero 2:  23\n"
     ]
    },
    {
     "name": "stdout",
     "output_type": "stream",
     "text": [
      "\n"
     ]
    },
    {
     "name": "stdin",
     "output_type": "stream",
     "text": [
      "Digite o numero 3:  4\n"
     ]
    },
    {
     "name": "stdout",
     "output_type": "stream",
     "text": [
      "\n",
      "O maior numero é: 23\n"
     ]
    }
   ],
   "source": [
    "# 6-Peça ao usuário para inserir três números e exiba o maior e o menor número\n",
    "# informados.\n",
    "\n",
    "print(\"VAMOS DESCOBRIR O MAIOR NUMERO\")\n",
    "print(\"\")\n",
    "\n",
    "n1 = int(input(\"Digite o numero 1: \"))\n",
    "print(\"\")\n",
    "n2 = int(input(\"Digite o numero 2: \"))\n",
    "print(\"\")\n",
    "n3 = int(input(\"Digite o numero 3: \"))\n",
    "print(\"\")\n",
    "\n",
    "if n1 > n2 and n1 > n3:\n",
    "    print(f\"O maior numero é: {n1}\")\n",
    "elif n2 > n1 and n2 > n3:\n",
    "    print(f\"O maior numero é: {n2}\")\n",
    "else:\n",
    "    print(f\"O maior numero é: {n3}\")\n",
    "\n",
    "\n",
    "\n",
    "\n"
   ]
  },
  {
   "cell_type": "markdown",
   "id": "7ba38bd4-b2b8-48d1-a7a1-e07a2139fc51",
   "metadata": {},
   "source": [
    "**exercicio 7**"
   ]
  },
  {
   "cell_type": "code",
   "execution_count": 36,
   "id": "3885d91f-b0c2-42db-85b6-430d67fb51f5",
   "metadata": {},
   "outputs": [
    {
     "name": "stdout",
     "output_type": "stream",
     "text": [
      "VAMOS DESCOBRIR SE O NUMERO É MAIOR , MENOR OU IGUAL A 100\n",
      "\n"
     ]
    },
    {
     "name": "stdin",
     "output_type": "stream",
     "text": [
      "Digite o numero:  100\n"
     ]
    },
    {
     "name": "stdout",
     "output_type": "stream",
     "text": [
      "\n",
      "O numero 100 é igual a: 100\n"
     ]
    }
   ],
   "source": [
    "# 7-Peça ao usuário para inserir um número e exiba se ele é maior, menor ou igual a\n",
    "# 100.\n",
    "\n",
    "print(\"VAMOS DESCOBRIR SE O NUMERO É MAIOR , MENOR OU IGUAL A 100\")\n",
    "print(\"\")\n",
    "\n",
    "n1 = int(input(\"Digite o numero: \"))\n",
    "print(\"\")\n",
    "\n",
    "main = 100\n",
    "\n",
    "if n1 == main:\n",
    "    print(f\"O numero {n1} é igual a: {main}\")\n",
    "elif n1 > main:\n",
    "    print(f\"O numero {n1} é maior que: {main}\")\n",
    "elif n1 < main:\n",
    "    print(f\"O numero {n1} é menor que: {main}\")\n"
   ]
  },
  {
   "cell_type": "markdown",
   "id": "a8af1627-f909-4e62-b42b-163e77c5022b",
   "metadata": {},
   "source": [
    "**exercicio 8**"
   ]
  },
  {
   "cell_type": "code",
   "execution_count": 44,
   "id": "0c8d6814-1b4e-47ca-a940-7b0c70b56bee",
   "metadata": {},
   "outputs": [
    {
     "name": "stdout",
     "output_type": "stream",
     "text": [
      "VAMOS DESCOBRIR SE O NUMEROS SÃO IGUAIS, MAIOR OU MENOR\n",
      "\n"
     ]
    },
    {
     "name": "stdin",
     "output_type": "stream",
     "text": [
      "Digite o numero 1:  1\n"
     ]
    },
    {
     "name": "stdout",
     "output_type": "stream",
     "text": [
      "\n"
     ]
    },
    {
     "name": "stdin",
     "output_type": "stream",
     "text": [
      "Digite o numero 2:  1\n"
     ]
    },
    {
     "name": "stdout",
     "output_type": "stream",
     "text": [
      "\n",
      "O numero 1 é igual ao numero: 1\n"
     ]
    }
   ],
   "source": [
    "# 8-Solicite ao usuário que insira dois números e exiba se eles são iguais ou, caso\n",
    "# contrário, qual é o maior.\n",
    "\n",
    "print(\"VAMOS DESCOBRIR SE O NUMEROS SÃO IGUAIS, MAIOR OU MENOR\")\n",
    "print(\"\")\n",
    "\n",
    "n1 = int(input(\"Digite o numero 1: \"))\n",
    "print(\"\")\n",
    "n2 = int(input(\"Digite o numero 2: \"))\n",
    "print(\"\")\n",
    "\n",
    "if n1 == n2:\n",
    "    print(f\"O numero {n1} é igual ao numero: {n2}\")\n",
    "elif n1 > n2:\n",
    "    print(f\"O numero {n1} é maior que o numero: {n2}\")\n",
    "else:\n",
    "    print(f\"O numero {n2} é maior que o numero: {n1}\")\n"
   ]
  },
  {
   "cell_type": "markdown",
   "id": "89175cce-40a9-42df-8b2c-9e71b858b41b",
   "metadata": {},
   "source": [
    "**exercicio 9**"
   ]
  },
  {
   "cell_type": "code",
   "execution_count": 52,
   "id": "7b94f0e9-8ba9-4f33-b926-2923cd7dd457",
   "metadata": {},
   "outputs": [
    {
     "name": "stdout",
     "output_type": "stream",
     "text": [
      "VAMOS CRIAR UM TRIANGULO\n",
      "\n"
     ]
    },
    {
     "name": "stdin",
     "output_type": "stream",
     "text": [
      "Digite o numero 1:  2\n"
     ]
    },
    {
     "name": "stdout",
     "output_type": "stream",
     "text": [
      "\n"
     ]
    },
    {
     "name": "stdin",
     "output_type": "stream",
     "text": [
      "Digite o numero 2:  2\n"
     ]
    },
    {
     "name": "stdout",
     "output_type": "stream",
     "text": [
      "\n"
     ]
    },
    {
     "name": "stdin",
     "output_type": "stream",
     "text": [
      "Digite o numero 3:  2\n"
     ]
    },
    {
     "name": "stdout",
     "output_type": "stream",
     "text": [
      "\n",
      "É possivel criar um Triangulo 👍\n"
     ]
    }
   ],
   "source": [
    "# 9-Peça ao usuário para inserir três números e exiba se eles podem formar um\n",
    "# triângulo (a soma de dois lados deve ser maior que o terceiro).\n",
    "\n",
    "print(\"VAMOS CRIAR UM TRIANGULO\")\n",
    "print(\"\")\n",
    "\n",
    "n1 = int(input(\"Digite o numero 1: \"))\n",
    "print(\"\")\n",
    "n2 = int(input(\"Digite o numero 2: \"))\n",
    "print(\"\")\n",
    "n3 = int(input(\"Digite o numero 3: \"))\n",
    "print(\"\")\n",
    "\n",
    "soma1 = n1 + n2\n",
    "soma2 = n2 + n3\n",
    "soma3 = n3 + n1\n",
    "\n",
    "if soma1 > n3 or soma2 > n1 or soma > n2:\n",
    "    print(\"É possivel criar um Triangulo 👍\")\n",
    "else:\n",
    "    print(\"Não é possivel criar um Triangulo 😒\")\n",
    "  "
   ]
  },
  {
   "cell_type": "markdown",
   "id": "7eaa6bbc-bf5f-4da9-9743-db204c6f448d",
   "metadata": {},
   "source": [
    "**exercicio 10**"
   ]
  },
  {
   "cell_type": "code",
   "execution_count": 56,
   "id": "88c474d9-3b7f-45cb-ac5c-e4748358015f",
   "metadata": {},
   "outputs": [
    {
     "name": "stdout",
     "output_type": "stream",
     "text": [
      "VAMOS APRENDER A TABUADA\n",
      "\n"
     ]
    },
    {
     "name": "stdin",
     "output_type": "stream",
     "text": [
      "Digite um numero:  7\n"
     ]
    },
    {
     "name": "stdout",
     "output_type": "stream",
     "text": [
      "\n",
      "Aqui está a Tabuada do numero 7\n",
      "7\n",
      "14\n",
      "21\n",
      "28\n",
      "35\n",
      "42\n",
      "49\n",
      "56\n",
      "63\n",
      "70\n"
     ]
    }
   ],
   "source": [
    "# 10-Solicite ao usuário um número e exiba a tabuada dele de 1 a 10.\n",
    "\n",
    "print(\"VAMOS APRENDER A TABUADA\")\n",
    "print(\"\")\n",
    "\n",
    "n1 = int(input(\"Digite um numero: \"))\n",
    "print(\"\")\n",
    "\n",
    "tabuada = (n1 * 1,n1 * 2,n1 * 3, n1 * 4, n1 * 5, n1 * 6, n1 * 7, n1 * 8,n1 * 9, n1 * 10)\n",
    "\n",
    "print(f\"Aqui está a Tabuada do numero {n1}\")\n",
    "print(tabuada[0])\n",
    "print(tabuada[1])\n",
    "print(tabuada[2])\n",
    "print(tabuada[3])\n",
    "print(tabuada[4])\n",
    "print(tabuada[5])\n",
    "print(tabuada[6])\n",
    "print(tabuada[7])\n",
    "print(tabuada[8])\n",
    "print(tabuada[9])\n",
    "\n",
    "\n"
   ]
  },
  {
   "cell_type": "markdown",
   "id": "a5e1cc83-01ff-4009-9b03-28e7850614b0",
   "metadata": {},
   "source": [
    "**exercicio 11**"
   ]
  },
  {
   "cell_type": "code",
   "execution_count": 64,
   "id": "57b58588-fd8b-47ef-9e4b-d6a2c5e213a5",
   "metadata": {},
   "outputs": [
    {
     "name": "stdout",
     "output_type": "stream",
     "text": [
      "VAMOS DESCOBRIR SEUS DIVISORES POSITIVOS\n",
      "\n"
     ]
    },
    {
     "name": "stdin",
     "output_type": "stream",
     "text": [
      "Digite um numero:  3\n"
     ]
    },
    {
     "name": "stdout",
     "output_type": "stream",
     "text": [
      "\n",
      "1\n",
      "3\n"
     ]
    }
   ],
   "source": [
    "# 11-Peça ao usuário um número inteiro e exiba todos os seus divisores positivos.\n",
    "\n",
    "print(\"VAMOS DESCOBRIR SEUS DIVISORES POSITIVOS\")\n",
    "print(\"\")\n",
    "\n",
    "n1 = int(input(\"Digite um numero: \"))\n",
    "print(\"\")\n",
    "\n",
    "for _ in range(1,n1 + 1):\n",
    "   if n1 % _ == 0:\n",
    "       print(_)"
   ]
  },
  {
   "cell_type": "markdown",
   "id": "f135fd2f-3b72-412d-a7f9-71652ae27322",
   "metadata": {},
   "source": [
    "**exercicio 12**"
   ]
  },
  {
   "cell_type": "code",
   "execution_count": 67,
   "id": "a7c94906-c0cc-40e5-8537-5ac5ea470e82",
   "metadata": {},
   "outputs": [
    {
     "name": "stdout",
     "output_type": "stream",
     "text": [
      "VAMOS VER SE È PRIMO\n",
      "\n"
     ]
    },
    {
     "name": "stdin",
     "output_type": "stream",
     "text": [
      "Digite um numero:  15\n"
     ]
    },
    {
     "name": "stdout",
     "output_type": "stream",
     "text": [
      "\n",
      "Não É primo\n"
     ]
    }
   ],
   "source": [
    "# 12-Solicite ao usuário um número e exiba se ele é primo ou não.\n",
    "\n",
    "print(\"VAMOS VER SE È PRIMO\")\n",
    "print(\"\")\n",
    "\n",
    "n1 = int(input(\"Digite um numero: \"))\n",
    "print(\"\")\n",
    "\n",
    "primo = []\n",
    "\n",
    "for _ in range(1,n1 + 1):\n",
    "   if n1 % _ == 0:\n",
    "       primo.append(_)\n",
    "\n",
    "if primo == [1,n1]:\n",
    "    print(\"É primo\")\n",
    "else:\n",
    "    print(\"Não É primo\")\n",
    "\n"
   ]
  },
  {
   "cell_type": "markdown",
   "id": "730851e7-e5a2-487e-a02a-52ff57ad9a56",
   "metadata": {},
   "source": [
    "**exercicio 13**"
   ]
  },
  {
   "cell_type": "code",
   "execution_count": 89,
   "id": "f667d125-999a-46f5-94f7-2d08ae325825",
   "metadata": {},
   "outputs": [
    {
     "name": "stdin",
     "output_type": "stream",
     "text": [
      "Digite um numero:  10\n"
     ]
    },
    {
     "name": "stdout",
     "output_type": "stream",
     "text": [
      "\n",
      "10\n",
      "9\n",
      "8\n",
      "7\n",
      "6\n",
      "5\n",
      "4\n",
      "3\n",
      "2\n",
      "1\n",
      "0\n"
     ]
    }
   ],
   "source": [
    "# 13-Peça ao usuário um número e exiba uma contagem regressiva até 0.\n",
    "\n",
    "n1 = int(input(\"Digite um numero: \"))\n",
    "print(\"\")\n",
    "\n",
    "for _ in range(n1,-1,-1):\n",
    "    print(_)"
   ]
  },
  {
   "cell_type": "markdown",
   "id": "a3bf2b22-0908-4f07-82d4-b0ac3129c352",
   "metadata": {},
   "source": [
    "**exercicio 14**"
   ]
  },
  {
   "cell_type": "code",
   "execution_count": 112,
   "id": "69f70954-9d51-44cb-beac-5416e07cf1c1",
   "metadata": {},
   "outputs": [
    {
     "name": "stdout",
     "output_type": "stream",
     "text": [
      "VAMOS DESCOBRIR A SOMA\n",
      "\n"
     ]
    },
    {
     "name": "stdin",
     "output_type": "stream",
     "text": [
      "Digite um numero:  10\n"
     ]
    },
    {
     "name": "stdout",
     "output_type": "stream",
     "text": [
      "\n",
      "1\n",
      "2\n",
      "3\n",
      "4\n",
      "5\n",
      "6\n",
      "7\n",
      "8\n",
      "9\n",
      "10\n"
     ]
    }
   ],
   "source": [
    "# 14-Solicite ao usuário que insira um número e exiba a soma de todos os números\n",
    "# inteiros de 1 até ele.\n",
    "\n",
    "print(\"VAMOS DESCOBRIR A SOMA\")\n",
    "print(\"\")\n",
    "\n",
    "n1 = int(input(\"Digite um numero: \"))\n",
    "print(\"\")\n",
    "\n",
    "\n",
    "for _ in range(1,n1 + 1):\n",
    "\n",
    "   print(_)\n",
    "\n"
   ]
  },
  {
   "cell_type": "markdown",
   "id": "c5a48f96-62e1-48d0-b5a5-7396084d85fe",
   "metadata": {},
   "source": [
    "**exercicio 15**"
   ]
  },
  {
   "cell_type": "code",
   "execution_count": 116,
   "id": "08145aa6-cacf-4084-b21e-86fd1db21410",
   "metadata": {},
   "outputs": [
    {
     "name": "stdout",
     "output_type": "stream",
     "text": [
      "VAMOS DESCOBRIR A SOMA\n",
      "\n"
     ]
    },
    {
     "name": "stdin",
     "output_type": "stream",
     "text": [
      "Digite um numero:  3\n"
     ]
    },
    {
     "name": "stdout",
     "output_type": "stream",
     "text": [
      "\n",
      "6\n"
     ]
    }
   ],
   "source": [
    "# 15-Peça ao usuário para inserir um número e calcule o fatorial desse número.\n",
    "# 1X2X3\n",
    "print(\"VAMOS DESCOBRIR A SOMA\")\n",
    "print(\"\")\n",
    "\n",
    "n1 = int(input(\"Digite um numero: \"))\n",
    "print(\"\")\n",
    "fatorial = 1\n",
    "\n",
    "for _ in range(1,n1 + 1):\n",
    "\n",
    "   fatorial *= _\n",
    "\n",
    "print(fatorial)"
   ]
  },
  {
   "cell_type": "markdown",
   "id": "8973a248-e6d5-44c6-8d58-22aa46ce12ef",
   "metadata": {},
   "source": [
    "**exercicio 16**"
   ]
  },
  {
   "cell_type": "code",
   "execution_count": 121,
   "id": "572b4636-0d8c-46fc-9524-b1291fb3b9b8",
   "metadata": {},
   "outputs": [
    {
     "name": "stdin",
     "output_type": "stream",
     "text": [
      "Cores:  a\n"
     ]
    },
    {
     "name": "stdout",
     "output_type": "stream",
     "text": [
      "\n"
     ]
    },
    {
     "name": "stdin",
     "output_type": "stream",
     "text": [
      "Cores:  \n"
     ]
    },
    {
     "name": "stdout",
     "output_type": "stream",
     "text": [
      "\n"
     ]
    },
    {
     "name": "stdin",
     "output_type": "stream",
     "text": [
      "Cores:  d\n"
     ]
    },
    {
     "name": "stdout",
     "output_type": "stream",
     "text": [
      "\n"
     ]
    },
    {
     "name": "stdin",
     "output_type": "stream",
     "text": [
      "Cores:  d\n"
     ]
    },
    {
     "name": "stdout",
     "output_type": "stream",
     "text": [
      "\n"
     ]
    },
    {
     "name": "stdin",
     "output_type": "stream",
     "text": [
      "Cores:  d\n"
     ]
    },
    {
     "name": "stdout",
     "output_type": "stream",
     "text": [
      "\n",
      "d\n"
     ]
    }
   ],
   "source": [
    "# 16-Crie uma lista com cinco cores e exiba a terceira cor da lista.\n",
    "lista = []\n",
    "for _ in range(5):\n",
    "    cores = input(\"Cores: \")\n",
    "    print(\"\")\n",
    "    lista.append(cores)\n",
    "\n",
    "print(lista[2])"
   ]
  },
  {
   "cell_type": "markdown",
   "id": "eb2ce2f8-bbaa-45ea-b80f-2495aea7769e",
   "metadata": {},
   "source": [
    "**exercicio 17**\n",
    "\n",
    "\n"
   ]
  },
  {
   "cell_type": "code",
   "execution_count": 124,
   "id": "d9d6d87c-2467-4d03-b435-c5332803986d",
   "metadata": {},
   "outputs": [
    {
     "name": "stdin",
     "output_type": "stream",
     "text": [
      "numeros:  2\n"
     ]
    },
    {
     "name": "stdout",
     "output_type": "stream",
     "text": [
      "\n"
     ]
    },
    {
     "name": "stdin",
     "output_type": "stream",
     "text": [
      "numeros:  3\n"
     ]
    },
    {
     "name": "stdout",
     "output_type": "stream",
     "text": [
      "\n"
     ]
    },
    {
     "name": "stdin",
     "output_type": "stream",
     "text": [
      "numeros:  6\n"
     ]
    },
    {
     "name": "stdout",
     "output_type": "stream",
     "text": [
      "\n"
     ]
    },
    {
     "name": "stdin",
     "output_type": "stream",
     "text": [
      "numeros:  3\n"
     ]
    },
    {
     "name": "stdout",
     "output_type": "stream",
     "text": [
      "\n"
     ]
    },
    {
     "name": "stdin",
     "output_type": "stream",
     "text": [
      "numeros:  1\n"
     ]
    },
    {
     "name": "stdout",
     "output_type": "stream",
     "text": [
      "\n",
      "[1, 2, 3, 3, 6]\n"
     ]
    }
   ],
   "source": [
    "# 17-Peça ao usuário para inserir cinco números e armazene-os em uma lista. Em\n",
    "# seguida, exiba a lista ordenada em ordem crescente.\n",
    "\n",
    "lista = []\n",
    "for _ in range(5):\n",
    "    numeros = int(input(\"numeros: \"))\n",
    "    print(\"\")\n",
    "    lista.append(numeros)\n",
    "\n",
    "print(sorted(lista))"
   ]
  }
 ],
 "metadata": {
  "kernelspec": {
   "display_name": "Python 3 (ipykernel)",
   "language": "python",
   "name": "python3"
  },
  "language_info": {
   "codemirror_mode": {
    "name": "ipython",
    "version": 3
   },
   "file_extension": ".py",
   "mimetype": "text/x-python",
   "name": "python",
   "nbconvert_exporter": "python",
   "pygments_lexer": "ipython3",
   "version": "3.12.7"
  }
 },
 "nbformat": 4,
 "nbformat_minor": 5
}
